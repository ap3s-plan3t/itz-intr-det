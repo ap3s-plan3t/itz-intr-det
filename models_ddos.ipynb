{
  "nbformat": 4,
  "nbformat_minor": 0,
  "metadata": {
    "colab": {
      "provenance": [],
      "authorship_tag": "ABX9TyNs4ZeyaKBoVh2je8XWbpjF",
      "include_colab_link": true
    },
    "kernelspec": {
      "name": "python3",
      "display_name": "Python 3"
    },
    "language_info": {
      "name": "python"
    }
  },
  "cells": [
    {
      "cell_type": "markdown",
      "metadata": {
        "id": "view-in-github",
        "colab_type": "text"
      },
      "source": [
        "<a href=\"https://colab.research.google.com/github/ap3s-plan3t/itz-intr-det/blob/main/models_ddos.ipynb\" target=\"_parent\"><img src=\"https://colab.research.google.com/assets/colab-badge.svg\" alt=\"Open In Colab\"/></a>"
      ]
    },
    {
      "cell_type": "code",
      "source": [
        "#!/usr/bin/env python3\n",
        "# -*- coding: utf-8 -*-\n",
        "\"\"\"\n",
        "Baseline models\n",
        "\"\"\"\n",
        "\n",
        "from tensorflow.keras.layers import Flatten,Dense,\\\n",
        "    Input,Dropout, Conv1D, AvgPool1D\n",
        "from tensorflow.keras.models import Model\n",
        "from tensorflow.keras import optimizers,layers,losses"
      ],
      "metadata": {
        "id": "pQPuIq6fipOA"
      },
      "execution_count": 2,
      "outputs": []
    },
    {
      "cell_type": "code",
      "source": [
        "#------------------------------------------------------------------------------\n",
        "# LSTM\n",
        "#------------------------------------------------------------------------------\n",
        "\n",
        "def model_lstm(lr=1e-4,N=64,inshape=40,nclass=12):\n",
        "    in1=Input(shape=(inshape,1))\n",
        "    x=layers.LSTM(N, activation='tanh')(in1)\n",
        "    x=Dropout(0.1)(x)\n",
        "    x=Dense(128, activation='relu')(x)\n",
        "    out1=Dense(nclass, activation='softmax')(x)\n",
        "    model=Model(inputs=in1,outputs=out1)\n",
        "\n",
        "    model.compile(optimizer=optimizers.Adam(lr),\n",
        "              loss=losses.categorical_crossentropy,\n",
        "              metrics=['acc'])\n",
        "    return model"
      ],
      "metadata": {
        "id": "4zzZM8cmiryE"
      },
      "execution_count": 3,
      "outputs": []
    },
    {
      "cell_type": "code",
      "source": [
        "#------------------------------------------------------------------------------\n",
        "#CONV1D\n",
        "#------------------------------------------------------------------------------\n",
        "\n",
        "def model_conv1D(lr=1e-4,N=64,inshape=40,nclass=12):\n",
        "    in1=Input(shape=(inshape,1))\n",
        "    x=Conv1D(N, 3,padding='same',activation='relu')(in1)\n",
        "    x=Conv1D(N, 3,padding='same',activation='relu')(x)\n",
        "\n",
        "    x=layers.Flatten()(x)\n",
        "    x=Dropout(0.1)(x)\n",
        "    x=Dense(128, activation='relu')(x)\n",
        "    out1=Dense(nclass, activation='softmax')(x)\n",
        "    model=Model(inputs=in1,outputs=out1)\n",
        "\n",
        "    model.compile(optimizer=optimizers.Adam(lr),\n",
        "              loss=losses.categorical_crossentropy,\n",
        "              metrics=['acc'])\n",
        "    return model"
      ],
      "metadata": {
        "id": "ECbcpFT3iv2i"
      },
      "execution_count": 4,
      "outputs": []
    },
    {
      "cell_type": "code",
      "source": [
        "#------------------------------------------------------------------------------\n",
        "# DENSE\n",
        "#------------------------------------------------------------------------------\n",
        "\n",
        "def model_dense(lr=1e-4,N=64,inshape=40,nclass=12):\n",
        "    in1=Input(shape=(inshape,1))\n",
        "    x=Dense(N,activation='relu')(in1)\n",
        "    x=Dense(N,activation='relu')(x)\n",
        "    x=layers.Flatten()(x)\n",
        "    x=Dropout(0.1)(x)\n",
        "    x=Dense(128, activation='relu')(x)\n",
        "    out1=Dense(nclass, activation='softmax')(x)\n",
        "    model=Model(inputs=in1,outputs=out1)\n",
        "\n",
        "    model.compile(optimizer=optimizers.Adam(lr),\n",
        "              loss=losses.categorical_crossentropy,\n",
        "              metrics=['acc'])\n",
        "    return model"
      ],
      "metadata": {
        "id": "-6Ekc4A_izDv"
      },
      "execution_count": 5,
      "outputs": []
    },
    {
      "cell_type": "code",
      "source": [
        "#------------------------------------------------------------------------------\n",
        "# BASE LINE models\n",
        "#------------------------------------------------------------------------------\n",
        "def model_conv1D_large(nfeat=40,lr=1e-2,nclass=12):\n",
        "    in1=Input(shape=(nfeat,1))\n",
        "    x=Conv1D(64, 3,padding='same' ,activation='relu')(in1)\n",
        "    x=Conv1D(64, 3,padding='same' ,activation='relu')(x)\n",
        "    x=AvgPool1D()(x)\n",
        "    x=Conv1D(128,5,padding='same' ,activation='relu')(x)\n",
        "    x=AvgPool1D()(x)\n",
        "    x=Conv1D(256,7,padding='same'  ,activation='relu')(x)\n",
        "    x=AvgPool1D()(x)\n",
        "    x=Conv1D(512,9,padding='same' ,activation='relu')(x)\n",
        "    x=Flatten()(x)\n",
        "    x=Dropout(0.4)(x)\n",
        "    x=Dense(512, activation='relu')(x)\n",
        "    output=Dense(nclass, activation='softmax')(x)\n",
        "    model = Model(inputs=in1, outputs=output)\n",
        "\n",
        "    #opt=optimizers.SGD(lr)\n",
        "    opt=optimizers.Adam(lr)\n",
        "    # opt=optimizers.RMSprop(lr)\n",
        "    # opt=optimizers.Adam(lr)\n",
        "    #opt=optimizers.Nadam(2e-2)\n",
        "    model.compile(optimizer=opt,#Adam(lr=1e-2),\n",
        "              loss=losses.categorical_crossentropy,\n",
        "              metrics=['acc'])\n",
        "    return model"
      ],
      "metadata": {
        "id": "P_RF9odPi18O"
      },
      "execution_count": 6,
      "outputs": []
    },
    {
      "cell_type": "code",
      "source": [
        "def model_conv1D_binary(nfeat=32,lr=1e-2,nclass=12):\n",
        "    in1=Input(shape=(nfeat,1))\n",
        "    x=Conv1D(64, 3,padding='same' ,activation='relu')(in1)\n",
        "    x=Conv1D(64, 3,padding='same' ,activation='relu')(x)\n",
        "    x=AvgPool1D()(x)\n",
        "    x=Conv1D(128,5,padding='same' ,activation='relu')(x)\n",
        "    x=AvgPool1D()(x)\n",
        "    x=Conv1D(256,7,padding='same'  ,activation='relu')(x)\n",
        "    x=AvgPool1D()(x)\n",
        "    x=Conv1D(512,9,padding='same' ,activation='relu')(x)\n",
        "    x=Flatten()(x)\n",
        "    x=Dropout(0.2)(x)\n",
        "    x=Dense(512, activation='relu')(x)\n",
        "    output=Dense(nclass, activation='sigmoid')(x)\n",
        "    model = Model(inputs=in1, outputs=output)\n",
        "\n",
        "    #opt=optimizers.SGD(lr)\n",
        "    # opt=optimizers.Adam(lr)\n",
        "    opt=optimizers.RMSprop(lr)\n",
        "    # opt=optimizers.Adam(lr)\n",
        "    #opt=optimizers.Nadam(2e-2)\n",
        "    model.compile(optimizer=opt,#Adam(lr=1e-2),\n",
        "              loss=losses.binary_crossentropy,\n",
        "              metrics=['acc'])\n",
        "    return model"
      ],
      "metadata": {
        "id": "M2cH4ziBi8Op"
      },
      "execution_count": 7,
      "outputs": []
    }
  ]
}