{
  "nbformat": 4,
  "nbformat_minor": 0,
  "metadata": {
    "colab": {
      "provenance": [],
      "authorship_tag": "ABX9TyN04jd6SifMRegKPp6gzD0u",
      "include_colab_link": true
    },
    "kernelspec": {
      "name": "python3",
      "display_name": "Python 3"
    },
    "language_info": {
      "name": "python"
    }
  },
  "cells": [
    {
      "cell_type": "markdown",
      "metadata": {
        "id": "view-in-github",
        "colab_type": "text"
      },
      "source": [
        "<a href=\"https://colab.research.google.com/github/ap3s-plan3t/itz-intr-det/blob/main/i_tzo_intr_det.ipynb\" target=\"_parent\"><img src=\"https://colab.research.google.com/assets/colab-badge.svg\" alt=\"Open In Colab\"/></a>"
      ]
    },
    {
      "cell_type": "code",
      "source": [
        "import matplotlib.pyplot as plt\n",
        "from tensorflow.keras.utils import plot_model\n",
        "import pandas as pd\n",
        "import numpy as np\n",
        "from sklearn.model_selection import train_test_split\n",
        "from sklearn.metrics import confusion_matrix\n",
        "from keras.callbacks import ModelCheckpoint, EarlyStopping\n",
        "import os\n",
        "from tensorflow.keras.utils import to_categorical\n",
        "from sklearn.utils import class_weight\n",
        "\n",
        "\n",
        "epochs = 100\n",
        "nclass = 12"
      ],
      "metadata": {
        "id": "3OAIJeXVE7aB"
      },
      "execution_count": 1,
      "outputs": []
    },
    {
      "cell_type": "code",
      "source": [
        "\"\"\"\n",
        "Baseline models\n",
        "\"\"\"\n",
        "\n",
        "from tensorflow.keras.layers import Flatten,Dense,\\\n",
        "    Input,Dropout, Conv1D, AvgPool1D\n",
        "from tensorflow.keras.models import Model\n",
        "from tensorflow.keras import optimizers,layers,losses\n",
        "\n",
        "\n",
        "#------------------------------------------------------------------------------\n",
        "# LSTM\n",
        "#------------------------------------------------------------------------------\n",
        "\n",
        "def model_lstm(lr=1e-4,N=64,inshape=40,nclass=12):\n",
        "    in1=Input(shape=(inshape,1))\n",
        "    x=layers.LSTM(N, activation='tanh')(in1)\n",
        "    x=Dropout(0.1)(x)\n",
        "    x=Dense(128, activation='relu')(x)\n",
        "    out1=Dense(nclass, activation='softmax')(x)\n",
        "    model=Model(inputs=in1,outputs=out1)\n",
        "\n",
        "    model.compile(optimizer=optimizers.Adam(lr),\n",
        "              loss=losses.categorical_crossentropy,\n",
        "              metrics=['acc'])\n",
        "    return model\n",
        "\n",
        "#------------------------------------------------------------------------------\n",
        "#CONV1D\n",
        "#------------------------------------------------------------------------------\n",
        "\n",
        "def model_conv1D(lr=1e-4,N=64,inshape=40,nclass=12):\n",
        "    in1=Input(shape=(inshape,1))\n",
        "    x=Conv1D(N, 3,padding='same',activation='relu')(in1)\n",
        "    x=Conv1D(N, 3,padding='same',activation='relu')(x)\n",
        "\n",
        "    x=layers.Flatten()(x)\n",
        "    x=Dropout(0.1)(x)\n",
        "    x=Dense(128, activation='relu')(x)\n",
        "    out1=Dense(nclass, activation='softmax')(x)\n",
        "    model=Model(inputs=in1,outputs=out1)\n",
        "\n",
        "    model.compile(optimizer=optimizers.Adam(lr),\n",
        "              loss=losses.categorical_crossentropy,\n",
        "              metrics=['acc'])\n",
        "    return model\n",
        "\n",
        "\n",
        "#------------------------------------------------------------------------------\n",
        "# DENSE\n",
        "#------------------------------------------------------------------------------\n",
        "\n",
        "def model_dense(lr=1e-4,N=64,inshape=40,nclass=12):\n",
        "    in1=Input(shape=(inshape,1))\n",
        "    x=Dense(N,activation='relu')(in1)\n",
        "    x=Dense(N,activation='relu')(x)\n",
        "    x=layers.Flatten()(x)\n",
        "    x=Dropout(0.1)(x)\n",
        "    x=Dense(128, activation='relu')(x)\n",
        "    out1=Dense(nclass, activation='softmax')(x)\n",
        "    model=Model(inputs=in1,outputs=out1)\n",
        "\n",
        "    model.compile(optimizer=optimizers.Adam(lr),\n",
        "              loss=losses.categorical_crossentropy,\n",
        "              metrics=['acc'])\n",
        "    return model\n",
        "\n",
        "#------------------------------------------------------------------------------\n",
        "# BASE LINE models\n",
        "#------------------------------------------------------------------------------\n",
        "def model_conv1D_large(nfeat=40,lr=1e-2,nclass=12):\n",
        "    in1=Input(shape=(nfeat,1))\n",
        "    x=Conv1D(64, 3,padding='same' ,activation='relu')(in1)\n",
        "    x=Conv1D(64, 3,padding='same' ,activation='relu')(x)\n",
        "    x=AvgPool1D()(x)\n",
        "    x=Conv1D(128,5,padding='same' ,activation='relu')(x)\n",
        "    x=AvgPool1D()(x)\n",
        "    x=Conv1D(256,7,padding='same'  ,activation='relu')(x)\n",
        "    x=AvgPool1D()(x)\n",
        "    x=Conv1D(512,9,padding='same' ,activation='relu')(x)\n",
        "    x=Flatten()(x)\n",
        "    x=Dropout(0.4)(x)\n",
        "    x=Dense(512, activation='relu')(x)\n",
        "    output=Dense(nclass, activation='softmax')(x)\n",
        "    model = Model(inputs=in1, outputs=output)\n",
        "\n",
        "    #opt=optimizers.SGD(lr)\n",
        "    opt=optimizers.Adam(lr)\n",
        "    # opt=optimizers.RMSprop(lr)\n",
        "    # opt=optimizers.Adam(lr)\n",
        "    #opt=optimizers.Nadam(2e-2)\n",
        "    model.compile(optimizer=opt,#Adam(lr=1e-2),\n",
        "              loss=losses.categorical_crossentropy,\n",
        "              metrics=['acc'])\n",
        "    return model\n",
        "\n",
        "def model_conv1D_binary(nfeat=32,lr=1e-2,nclass=12):\n",
        "    in1=Input(shape=(nfeat,1))\n",
        "    x=Conv1D(64, 3,padding='same' ,activation='relu')(in1)\n",
        "    x=Conv1D(64, 3,padding='same' ,activation='relu')(x)\n",
        "    x=AvgPool1D()(x)\n",
        "    x=Conv1D(128,5,padding='same' ,activation='relu')(x)\n",
        "    x=AvgPool1D()(x)\n",
        "    x=Conv1D(256,7,padding='same'  ,activation='relu')(x)\n",
        "    x=AvgPool1D()(x)\n",
        "    x=Conv1D(512,9,padding='same' ,activation='relu')(x)\n",
        "    x=Flatten()(x)\n",
        "    x=Dropout(0.2)(x)\n",
        "    x=Dense(512, activation='relu')(x)\n",
        "    output=Dense(nclass, activation='sigmoid')(x)\n",
        "    model = Model(inputs=in1, outputs=output)\n",
        "\n",
        "    #opt=optimizers.SGD(lr)\n",
        "    # opt=optimizers.Adam(lr)\n",
        "    opt=optimizers.RMSprop(lr)\n",
        "    # opt=optimizers.Adam(lr)\n",
        "    #opt=optimizers.Nadam(2e-2)\n",
        "    model.compile(optimizer=opt,#Adam(lr=1e-2),\n",
        "              loss=losses.binary_crossentropy,\n",
        "              metrics=['acc'])\n",
        "    return model"
      ],
      "metadata": {
        "id": "QKIZiOjcfXGx"
      },
      "execution_count": 2,
      "outputs": []
    },
    {
      "cell_type": "code",
      "source": [
        "def loadDataset():\n",
        "            test_data.astype('float32'), test_label.astype('int32')"
      ],
      "metadata": {
        "id": "4TloqEJ_FLoy"
      },
      "execution_count": 8,
      "outputs": []
    },
    {
      "cell_type": "code",
      "source": [
        "# -- LOAD DATA -----------------------------------------------------------------\n",
        "train_data, train_labelp, val_data, val_labelp, test_data, test_labelp = loadDataset()"
      ],
      "metadata": {
        "colab": {
          "base_uri": "https://localhost:8080/",
          "height": 228
        },
        "id": "cXwBQtaQFPa9",
        "outputId": "de5f0fcb-5476-4b4e-8e49-16e5527da6a6"
      },
      "execution_count": 9,
      "outputs": [
        {
          "output_type": "error",
          "ename": "NameError",
          "evalue": "name 'test_data' is not defined",
          "traceback": [
            "\u001b[0;31m---------------------------------------------------------------------------\u001b[0m",
            "\u001b[0;31mNameError\u001b[0m                                 Traceback (most recent call last)",
            "\u001b[0;32m<ipython-input-9-7d3e5b2d1a7d>\u001b[0m in \u001b[0;36m<cell line: 2>\u001b[0;34m()\u001b[0m\n\u001b[1;32m      1\u001b[0m \u001b[0;31m# -- LOAD DATA -----------------------------------------------------------------\u001b[0m\u001b[0;34m\u001b[0m\u001b[0;34m\u001b[0m\u001b[0m\n\u001b[0;32m----> 2\u001b[0;31m \u001b[0mtrain_data\u001b[0m\u001b[0;34m,\u001b[0m \u001b[0mtrain_labelp\u001b[0m\u001b[0;34m,\u001b[0m \u001b[0mval_data\u001b[0m\u001b[0;34m,\u001b[0m \u001b[0mval_labelp\u001b[0m\u001b[0;34m,\u001b[0m \u001b[0mtest_data\u001b[0m\u001b[0;34m,\u001b[0m \u001b[0mtest_labelp\u001b[0m \u001b[0;34m=\u001b[0m \u001b[0mloadDataset\u001b[0m\u001b[0;34m(\u001b[0m\u001b[0;34m)\u001b[0m\u001b[0;34m\u001b[0m\u001b[0;34m\u001b[0m\u001b[0m\n\u001b[0m",
            "\u001b[0;32m<ipython-input-8-994b41f3bbbb>\u001b[0m in \u001b[0;36mloadDataset\u001b[0;34m()\u001b[0m\n\u001b[1;32m      1\u001b[0m \u001b[0;32mdef\u001b[0m \u001b[0mloadDataset\u001b[0m\u001b[0;34m(\u001b[0m\u001b[0;34m)\u001b[0m\u001b[0;34m:\u001b[0m\u001b[0;34m\u001b[0m\u001b[0;34m\u001b[0m\u001b[0m\n\u001b[0;32m----> 2\u001b[0;31m             \u001b[0mtest_data\u001b[0m\u001b[0;34m.\u001b[0m\u001b[0mastype\u001b[0m\u001b[0;34m(\u001b[0m\u001b[0;34m'float32'\u001b[0m\u001b[0;34m)\u001b[0m\u001b[0;34m,\u001b[0m \u001b[0mtest_label\u001b[0m\u001b[0;34m.\u001b[0m\u001b[0mastype\u001b[0m\u001b[0;34m(\u001b[0m\u001b[0;34m'int32'\u001b[0m\u001b[0;34m)\u001b[0m\u001b[0;34m\u001b[0m\u001b[0;34m\u001b[0m\u001b[0m\n\u001b[0m",
            "\u001b[0;31mNameError\u001b[0m: name 'test_data' is not defined"
          ]
        }
      ]
    },
    {
      "cell_type": "code",
      "source": [
        "# to_categorical\n",
        "train_label = to_categorical(train_labelp, nclass)\n",
        "val_label   = to_categorical(val_labelp,   nclass)\n",
        "test_label  = to_categorical(test_labelp,  nclass)\n",
        "\n",
        "print('train_data.shape=', train_data.shape)\n",
        "print('test_data.shape=',  test_data.shape)\n",
        "print('test_data.shape=',  val_data.shape)"
      ],
      "metadata": {
        "colab": {
          "base_uri": "https://localhost:8080/",
          "height": 211
        },
        "id": "320cyhz2FYKh",
        "outputId": "7907ab4c-6793-4c1d-ba42-70800108c882"
      },
      "execution_count": 10,
      "outputs": [
        {
          "output_type": "error",
          "ename": "NameError",
          "evalue": "name 'train_labelp' is not defined",
          "traceback": [
            "\u001b[0;31m---------------------------------------------------------------------------\u001b[0m",
            "\u001b[0;31mNameError\u001b[0m                                 Traceback (most recent call last)",
            "\u001b[0;32m<ipython-input-10-f17ec6ee6c30>\u001b[0m in \u001b[0;36m<cell line: 2>\u001b[0;34m()\u001b[0m\n\u001b[1;32m      1\u001b[0m \u001b[0;31m# to_categorical\u001b[0m\u001b[0;34m\u001b[0m\u001b[0;34m\u001b[0m\u001b[0m\n\u001b[0;32m----> 2\u001b[0;31m \u001b[0mtrain_label\u001b[0m \u001b[0;34m=\u001b[0m \u001b[0mto_categorical\u001b[0m\u001b[0;34m(\u001b[0m\u001b[0mtrain_labelp\u001b[0m\u001b[0;34m,\u001b[0m \u001b[0mnclass\u001b[0m\u001b[0;34m)\u001b[0m\u001b[0;34m\u001b[0m\u001b[0;34m\u001b[0m\u001b[0m\n\u001b[0m\u001b[1;32m      3\u001b[0m \u001b[0mval_label\u001b[0m   \u001b[0;34m=\u001b[0m \u001b[0mto_categorical\u001b[0m\u001b[0;34m(\u001b[0m\u001b[0mval_labelp\u001b[0m\u001b[0;34m,\u001b[0m   \u001b[0mnclass\u001b[0m\u001b[0;34m)\u001b[0m\u001b[0;34m\u001b[0m\u001b[0;34m\u001b[0m\u001b[0m\n\u001b[1;32m      4\u001b[0m \u001b[0mtest_label\u001b[0m  \u001b[0;34m=\u001b[0m \u001b[0mto_categorical\u001b[0m\u001b[0;34m(\u001b[0m\u001b[0mtest_labelp\u001b[0m\u001b[0;34m,\u001b[0m  \u001b[0mnclass\u001b[0m\u001b[0;34m)\u001b[0m\u001b[0;34m\u001b[0m\u001b[0;34m\u001b[0m\u001b[0m\n\u001b[1;32m      5\u001b[0m \u001b[0;34m\u001b[0m\u001b[0m\n",
            "\u001b[0;31mNameError\u001b[0m: name 'train_labelp' is not defined"
          ]
        }
      ]
    },
    {
      "cell_type": "code",
      "source": [
        "#get the number of features\n",
        "inshape=train_data.shape[1]"
      ],
      "metadata": {
        "colab": {
          "base_uri": "https://localhost:8080/",
          "height": 159
        },
        "id": "C29dRpS0FbTi",
        "outputId": "e3a68c1f-0c7c-47ed-8fe7-f8ae9c037ba4"
      },
      "execution_count": 13,
      "outputs": [
        {
          "output_type": "error",
          "ename": "NameError",
          "evalue": "name 'train_data' is not defined",
          "traceback": [
            "\u001b[0;31m---------------------------------------------------------------------------\u001b[0m",
            "\u001b[0;31mNameError\u001b[0m                                 Traceback (most recent call last)",
            "\u001b[0;32m<ipython-input-13-5e5a913014b3>\u001b[0m in \u001b[0;36m<cell line: 2>\u001b[0;34m()\u001b[0m\n\u001b[1;32m      1\u001b[0m \u001b[0;31m#get the number of features\u001b[0m\u001b[0;34m\u001b[0m\u001b[0;34m\u001b[0m\u001b[0m\n\u001b[0;32m----> 2\u001b[0;31m \u001b[0minshape\u001b[0m\u001b[0;34m=\u001b[0m\u001b[0mtrain_data\u001b[0m\u001b[0;34m.\u001b[0m\u001b[0mshape\u001b[0m\u001b[0;34m[\u001b[0m\u001b[0;36m1\u001b[0m\u001b[0;34m]\u001b[0m\u001b[0;34m\u001b[0m\u001b[0;34m\u001b[0m\u001b[0m\n\u001b[0m",
            "\u001b[0;31mNameError\u001b[0m: name 'train_data' is not defined"
          ]
        }
      ]
    },
    {
      "cell_type": "code",
      "source": [
        "# Class balancing weights\n",
        "class_weights = class_weight.compute_class_weight(class_weight='balanced',\n",
        "                                                  classes=np.unique(\n",
        "                                                      train_labelp),\n",
        "                                                  y=train_labelp)\n",
        "\n",
        "\n",
        "class_weights = {i: class_weights[i] for i in range(len(class_weights))}"
      ],
      "metadata": {
        "colab": {
          "base_uri": "https://localhost:8080/",
          "height": 211
        },
        "id": "zl0lAaBVFdn0",
        "outputId": "aad1ee2e-c0db-4bf9-a9e6-e1eb1a062b11"
      },
      "execution_count": 14,
      "outputs": [
        {
          "output_type": "error",
          "ename": "NameError",
          "evalue": "name 'train_labelp' is not defined",
          "traceback": [
            "\u001b[0;31m---------------------------------------------------------------------------\u001b[0m",
            "\u001b[0;31mNameError\u001b[0m                                 Traceback (most recent call last)",
            "\u001b[0;32m<ipython-input-14-2a6bca35e63d>\u001b[0m in \u001b[0;36m<cell line: 2>\u001b[0;34m()\u001b[0m\n\u001b[1;32m      2\u001b[0m class_weights = class_weight.compute_class_weight(class_weight='balanced',\n\u001b[1;32m      3\u001b[0m                                                   classes=np.unique(\n\u001b[0;32m----> 4\u001b[0;31m                                                       train_labelp),\n\u001b[0m\u001b[1;32m      5\u001b[0m                                                   y=train_labelp)\n\u001b[1;32m      6\u001b[0m \u001b[0;34m\u001b[0m\u001b[0m\n",
            "\u001b[0;31mNameError\u001b[0m: name 'train_labelp' is not defined"
          ]
        }
      ]
    },
    {
      "cell_type": "code",
      "source": [
        "# -- CALLBACKS -----------------------------------------------------------------\n",
        "earlyStopping = EarlyStopping(monitor='val_loss',\n",
        "                              patience=30,\n",
        "                              verbose=0,\n",
        "                              mode='min')\n",
        "\n",
        "modelCheckPoint = ModelCheckpoint('./savemodels/model5class.weights.{epoch:03d}-{val_acc:.4f}.hdf5',\n",
        "                                  save_best_only=True,\n",
        "                                  monitor='val_acc',\n",
        "                                  mode='max')"
      ],
      "metadata": {
        "id": "FpJihw90FgxA"
      },
      "execution_count": 15,
      "outputs": []
    },
    {
      "cell_type": "code",
      "source": [
        "# reduce_lr_loss = ReduceLROnPlateau(monitor='val_loss',\n",
        "#                                   factor=0.1,\n",
        "#                                   patience=7,\n",
        "#                                   verbose=1,\n",
        "#                                   epsilon=1e-4,\n",
        "#                                   mode='min')\n",
        "\n",
        "# -- Baseline models-----------------------------------------------------------\n",
        "\n",
        "# -- Conv1d\n",
        "model=models_ddos.model_conv1D(lr=1e-4,N=64,inshape=inshape)\n",
        "# -- Dense\n",
        "# model=models_ddos.model_dense(lr=1e-4,N=64,inshape=inshape)\n",
        "# -- LSTM\n",
        "# model=models_ddos.model_lstm(lr=1e-4,N=64,inshape=inshape)\n",
        "\n",
        "model.summary()"
      ],
      "metadata": {
        "colab": {
          "base_uri": "https://localhost:8080/",
          "height": 211
        },
        "id": "zDENry2EFj3P",
        "outputId": "f37962e9-3204-42fc-880a-6378d89c0c18"
      },
      "execution_count": 16,
      "outputs": [
        {
          "output_type": "error",
          "ename": "NameError",
          "evalue": "name 'models_ddos' is not defined",
          "traceback": [
            "\u001b[0;31m---------------------------------------------------------------------------\u001b[0m",
            "\u001b[0;31mNameError\u001b[0m                                 Traceback (most recent call last)",
            "\u001b[0;32m<ipython-input-16-4a68eff0787f>\u001b[0m in \u001b[0;36m<cell line: 11>\u001b[0;34m()\u001b[0m\n\u001b[1;32m      9\u001b[0m \u001b[0;34m\u001b[0m\u001b[0m\n\u001b[1;32m     10\u001b[0m \u001b[0;31m# -- Conv1d\u001b[0m\u001b[0;34m\u001b[0m\u001b[0;34m\u001b[0m\u001b[0m\n\u001b[0;32m---> 11\u001b[0;31m \u001b[0mmodel\u001b[0m\u001b[0;34m=\u001b[0m\u001b[0mmodels_ddos\u001b[0m\u001b[0;34m.\u001b[0m\u001b[0mmodel_conv1D\u001b[0m\u001b[0;34m(\u001b[0m\u001b[0mlr\u001b[0m\u001b[0;34m=\u001b[0m\u001b[0;36m1e-4\u001b[0m\u001b[0;34m,\u001b[0m\u001b[0mN\u001b[0m\u001b[0;34m=\u001b[0m\u001b[0;36m64\u001b[0m\u001b[0;34m,\u001b[0m\u001b[0minshape\u001b[0m\u001b[0;34m=\u001b[0m\u001b[0minshape\u001b[0m\u001b[0;34m)\u001b[0m\u001b[0;34m\u001b[0m\u001b[0;34m\u001b[0m\u001b[0m\n\u001b[0m\u001b[1;32m     12\u001b[0m \u001b[0;31m# -- Dense\u001b[0m\u001b[0;34m\u001b[0m\u001b[0;34m\u001b[0m\u001b[0m\n\u001b[1;32m     13\u001b[0m \u001b[0;31m# model=models_ddos.model_dense(lr=1e-4,N=64,inshape=inshape)\u001b[0m\u001b[0;34m\u001b[0m\u001b[0;34m\u001b[0m\u001b[0m\n",
            "\u001b[0;31mNameError\u001b[0m: name 'models_ddos' is not defined"
          ]
        }
      ]
    },
    {
      "cell_type": "code",
      "source": [
        "# -----------------------------------------------------------------------------\n",
        "# print model to an image file\n",
        "# dot_img_file = 'model1.png'\n",
        "# plot_model(model, to_file=dot_img_file, show_shapes=True)"
      ],
      "metadata": {
        "id": "SK3-BrrKFuIB"
      },
      "execution_count": null,
      "outputs": []
    },
    {
      "cell_type": "code",
      "source": [
        "# -- TRAIN MODEL --------------------------------------------------------------\n",
        "history = model.fit(train_data,\n",
        "                    train_label,\n",
        "                    shuffle=True,\n",
        "                    epochs=epochs,\n",
        "                    batch_size=256,  # 256,#128,#32, 64\n",
        "                    # validation_data=validation_generator,\n",
        "                    # validation_split=0.2,\n",
        "                    # validation_data=(val_data,val_label),\n",
        "                    validation_data=(val_data, val_label),\n",
        "                    callbacks=[modelCheckPoint],\n",
        "                    class_weight=class_weights,\n",
        "                    workers=3)"
      ],
      "metadata": {
        "id": "lGBWMqxwFnvG"
      },
      "execution_count": null,
      "outputs": []
    },
    {
      "cell_type": "code",
      "source": [
        "# -- Load best model ----------------------------------------------------------\n",
        "str_models = os.listdir('./savemodels')\n",
        "str_models = np.sort(str_models)\n",
        "best_model = str_models[str_models.size-1]\n",
        "print('best_model=', best_model)\n",
        "model.load_weights('./savemodels/'+best_model)"
      ],
      "metadata": {
        "id": "VE4JA35vFz5E"
      },
      "execution_count": null,
      "outputs": []
    },
    {
      "cell_type": "code",
      "source": [
        "# --Confusion matrix ----------------------------------------------------------\n",
        "print('TEST DATA-Confusion matrix:')\n",
        "pred = model.predict(test_data)\n",
        "pred_y = pred.argmax(axis=-1)\n",
        "\n",
        "cm = confusion_matrix(test_labelp.astype('int32'), pred_y)\n",
        "print(cm)\n",
        "\n",
        "print('Accuracy ratios for each class')\n",
        "print('WebDDoS      =', cm[0, 0]/np.sum(cm[0, :]))\n",
        "print('BENIGN       =', cm[1, 1]/np.sum(cm[1, :]))\n",
        "print('UDP-lag      =', cm[2, 2]/np.sum(cm[2, :]))\n",
        "print('DrDoS_NTP    =', cm[3, 3]/np.sum(cm[3, :]))\n",
        "print('Syn          =', cm[4, 4]/np.sum(cm[4, :]))\n",
        "print('DrDoS_SSDP   =', cm[5, 5]/np.sum(cm[5, :]))\n",
        "print('DrDoS_UDP    =', cm[6, 6]/np.sum(cm[6, :]))\n",
        "print('DrDoS_NetBIOS=', cm[7, 7]/np.sum(cm[7, :]))\n",
        "print('DrDoS_MSSQL  =', cm[8, 8]/np.sum(cm[8, :]))\n",
        "print('DrDoS_SNMP   =', cm[9, 9]/np.sum(cm[9, :]))\n",
        "print('TFTP         =', cm[10,10]/np.sum(cm[10, :]))\n",
        "print('DrDoS_DNS    =', cm[11,11]/np.sum(cm[11, :]))"
      ],
      "metadata": {
        "id": "4hGR_MzSF3M7"
      },
      "execution_count": null,
      "outputs": []
    },
    {
      "cell_type": "code",
      "source": [
        "# -- Confusion matrix plot\n",
        "from sklearn.metrics import confusion_matrix, ConfusionMatrixDisplay\n",
        "label=np.array([\"WebDDoS\",\"BENIGN\",\"UDP-lag\",\"DrDoS_NTP\",\"Syn \",\n",
        "                \"DrDoS_SSDP\",\"DrDoS_UDP\",\"DrDoS_NetBIOS\",\"DrDoS_MSSQL\",\n",
        "                \"DrDoS_SNMP\",\"TFTP\",\"DrDoS_DNS\"])\n",
        "\n",
        "cmo = ConfusionMatrixDisplay(cm,display_labels=label)\n",
        "fig, ax = plt.subplots(figsize=(12,12))\n",
        "cmo.plot(ax=ax, xticks_rotation=45)"
      ],
      "metadata": {
        "id": "4GCoixSiF56X"
      },
      "execution_count": null,
      "outputs": []
    },
    {
      "cell_type": "code",
      "source": [
        "# Plot training and validation accurry and loss graphs\n",
        "acc = history.history['acc']\n",
        "val_acc = history.history['val_acc']\n",
        "loss = history.history['loss']\n",
        "val_loss = history.history['val_loss']\n",
        "\n",
        "np.save('historydata.npy',[acc,val_acc,loss,val_loss])\n",
        "[acc, val_acc, loss, val_loss] = np.load('historydata.npy')\n",
        "\n",
        "plt.figure()\n",
        "epochs = range(len(acc))\n",
        "plt.plot(epochs, acc, 'b', label='Training acc')\n",
        "plt.plot(epochs, val_acc, 'r.', label='Validation acc')\n",
        "plt.title('Training and validation accuracy')\n",
        "plt.xlabel('Epochs')\n",
        "plt.ylabel('Accuracy')\n",
        "\n",
        "plt.legend()\n",
        "plt.figure()\n",
        "plt.plot(epochs, loss, 'b', label='Training loss')\n",
        "plt.plot(epochs, val_loss, 'r.', label='Validation loss')\n",
        "plt.title('Training and validation loss')\n",
        "plt.xlabel('Epochs')\n",
        "plt.ylabel('Loss')\n",
        "plt.legend()\n",
        "plt.show()"
      ],
      "metadata": {
        "id": "PgZGnsX4GE8_"
      },
      "execution_count": null,
      "outputs": []
    }
  ]
}